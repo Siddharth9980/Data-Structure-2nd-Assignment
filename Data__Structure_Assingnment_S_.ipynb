{
  "nbformat": 4,
  "nbformat_minor": 0,
  "metadata": {
    "colab": {
      "provenance": [],
      "authorship_tag": "ABX9TyOxBxTSfc7OroQSg2VdWaZc",
      "include_colab_link": true
    },
    "kernelspec": {
      "name": "python3",
      "display_name": "Python 3"
    },
    "language_info": {
      "name": "python"
    }
  },
  "cells": [
    {
      "cell_type": "markdown",
      "metadata": {
        "id": "view-in-github",
        "colab_type": "text"
      },
      "source": [
        "<a href=\"https://colab.research.google.com/github/Siddharth9980/Data-Structure-2nd-Assignment/blob/main/Data__Structure_Assingnment_S_.ipynb\" target=\"_parent\"><img src=\"https://colab.research.google.com/assets/colab-badge.svg\" alt=\"Open In Colab\"/></a>"
      ]
    },
    {
      "cell_type": "markdown",
      "source": [
        "## 1- Write a code to reverse a string.\n",
        "Ans= Here is a simple code to reverse a string in Python:"
      ],
      "metadata": {
        "id": "8HmjAa5jPA6R"
      }
    },
    {
      "cell_type": "code",
      "execution_count": 2,
      "metadata": {
        "id": "cVt8Lm-aO9jc"
      },
      "outputs": [],
      "source": [
        "def reverse_string(s):\n",
        "    \"\"\"\n",
        "    This function takes a string as input and returns the reversed string.\n",
        "    \"\"\"\n",
        "    return s[::-1]"
      ]
    },
    {
      "cell_type": "markdown",
      "source": [
        "Explanation:\n",
        "\n",
        "The [::-1] syntax is a slice that steps backward through the entire string, effectively reversing it.\n",
        "The function takes a string s as input and returns the reversed string.\n",
        "Example usage:"
      ],
      "metadata": {
        "id": "nkXgZUzhO_5Q"
      }
    },
    {
      "cell_type": "code",
      "source": [
        "input_string = \"hello\"\n",
        "reversed_string = reverse_string(input_string)\n",
        "print(reversed_string)"
      ],
      "metadata": {
        "colab": {
          "base_uri": "https://localhost:8080/"
        },
        "id": "5MrmXH-9P8w_",
        "outputId": "8806b91b-661d-4842-836c-497183078b66"
      },
      "execution_count": 3,
      "outputs": [
        {
          "output_type": "stream",
          "name": "stdout",
          "text": [
            "olleh\n"
          ]
        }
      ]
    },
    {
      "cell_type": "markdown",
      "source": [
        "## 2- Write a code to count the number of vowels in strings.\n",
        "Ans= Here is a simple code to count the number of vowels in a string in Python:"
      ],
      "metadata": {
        "id": "gNNcZPcnQZrg"
      }
    },
    {
      "cell_type": "code",
      "source": [
        "def count_vowels(s):\n",
        "    \"\"\"\n",
        "    This function takes a string as input and returns the count of vowels in the string.\n",
        "    \"\"\"\n",
        "    vowels = 'aeiouAEIOU'\n",
        "    count = 0\n",
        "    for char in s:\n",
        "        if char in vowels:\n",
        "            count += 1\n",
        "    return count"
      ],
      "metadata": {
        "id": "OjXpjtNeQAjo"
      },
      "execution_count": 4,
      "outputs": []
    },
    {
      "cell_type": "markdown",
      "source": [
        "Explanation:\n",
        "\n",
        "The function takes a string s as input and initializes a counter count to 0.\n",
        "It defines a string vowels that contains all the vowels (both lowercase and uppercase).\n",
        "It then iterates over each character char in the input string s.\n",
        "If the character char is found in the vowels string, it increments the count by 1.\n",
        "Finally, it returns the total count of vowels in the string.\n",
        "Example usage:"
      ],
      "metadata": {
        "id": "tP3yoS_JRRqi"
      }
    },
    {
      "cell_type": "code",
      "source": [
        "input_string = \"hello world\"\n",
        "vowel_count = count_vowels(input_string)\n",
        "print(vowel_count)"
      ],
      "metadata": {
        "colab": {
          "base_uri": "https://localhost:8080/"
        },
        "id": "PUfLABKHREPR",
        "outputId": "1e5eaf96-ddf7-41dc-a04b-3b204df707a2"
      },
      "execution_count": 5,
      "outputs": [
        {
          "output_type": "stream",
          "name": "stdout",
          "text": [
            "3\n"
          ]
        }
      ]
    },
    {
      "cell_type": "markdown",
      "source": [
        "## 3- Write a code to check if a given string is a palindrome or not.\n",
        "Ans= Here is a simple code to check if a given string is a palindrome or not in Python:"
      ],
      "metadata": {
        "id": "GNzrFscWReg4"
      }
    },
    {
      "cell_type": "code",
      "source": [
        "def is_palindrome(s):\n",
        "    \"\"\"\n",
        "    This function takes a string as input and returns True if the string is a palindrome, False otherwise.\n",
        "    \"\"\"\n",
        "    s = ''.join(c for c in s if c.isalnum()).lower()  # remove non-alphanumeric characters and convert to lowercase\n",
        "    return s == s[::-1]"
      ],
      "metadata": {
        "id": "ZgM7-SzlRZ8i"
      },
      "execution_count": 6,
      "outputs": []
    },
    {
      "cell_type": "markdown",
      "source": [
        "Explanation:\n",
        "\n",
        "The function takes a string s as input and removes all non-alphanumeric characters from the string using a generator expression.\n",
        "It then converts the string to lowercase to make the comparison case-insensitive.\n",
        "It uses the [::-1] syntax to reverse the string, as we did in the string reversal code earlier.\n",
        "It then checks if the original string s is equal to its reverse. If they are equal, the string is a palindrome, and the function returns True. Otherwise, it returns False.\n",
        "Example usage:"
      ],
      "metadata": {
        "id": "tlaoUTpbSOMz"
      }
    },
    {
      "cell_type": "code",
      "source": [
        "input_string = \"A man, a plan, a canal: Panama\"\n",
        "is_palindrome_result = is_palindrome(input_string)\n",
        "print(is_palindrome_result)  # Output: True\n",
        "\n",
        "input_string = \"hello\"\n",
        "is_palindrome_result = is_palindrome(input_string)\n",
        "print(is_palindrome_result)  # Output: False"
      ],
      "metadata": {
        "colab": {
          "base_uri": "https://localhost:8080/"
        },
        "id": "YjXxHS6kSFd5",
        "outputId": "710e6620-5c02-4cf0-db05-15baf793e654"
      },
      "execution_count": 7,
      "outputs": [
        {
          "output_type": "stream",
          "name": "stdout",
          "text": [
            "True\n",
            "False\n"
          ]
        }
      ]
    },
    {
      "cell_type": "markdown",
      "source": [
        "Alternatively, you can also use a two-pointer approach to check if a string is a palindrome:"
      ],
      "metadata": {
        "id": "TeinI9b5SWuY"
      }
    },
    {
      "cell_type": "code",
      "source": [
        "def is_palindrome(s):\n",
        "    \"\"\"\n",
        "    This function takes a string as input and returns True if the string is a palindrome, False otherwise.\n",
        "    \"\"\"\n",
        "    s = ''.join(c for c in s if c.isalnum()).lower()  # remove non-alphanumeric characters and convert to lowercase\n",
        "    left, right = 0, len(s) - 1\n",
        "    while left < right:\n",
        "        if s[left] != s[right]:\n",
        "            return False\n",
        "        left += 1\n",
        "        right -= 1\n",
        "    return True"
      ],
      "metadata": {
        "id": "JoBn0th9SSnP"
      },
      "execution_count": 8,
      "outputs": []
    },
    {
      "cell_type": "markdown",
      "source": [
        "This implementation has a time complexity of O(n), where n is the length of the string, and a space complexity of O(n) due to the string manipulation."
      ],
      "metadata": {
        "id": "1CdwIVYZSb34"
      }
    },
    {
      "cell_type": "markdown",
      "source": [
        "## 4- Write a code to check if two given strings are anagrams of each other.\n",
        "Ans= Here is a simple code to check if two given strings are anagrams of each other in Python:"
      ],
      "metadata": {
        "id": "WLTe5bS4Sial"
      }
    },
    {
      "cell_type": "code",
      "source": [
        "def are_anagrams(str1, str2):\n",
        "    \"\"\"\n",
        "    This function takes two strings as input and returns True if they are anagrams of each other, False otherwise.\n",
        "    \"\"\"\n",
        "    # Remove non-alphanumeric characters and convert to lowercase\n",
        "    str1 = ''.join(c for c in str1 if c.isalnum()).lower()\n",
        "    str2 = ''.join(c for c in str2 if c.isalnum()).lower()\n",
        "\n",
        "    # Check if sorted strings are equal\n",
        "    return sorted(str1) == sorted(str2)"
      ],
      "metadata": {
        "id": "8_DFSc0ZSaXU"
      },
      "execution_count": 9,
      "outputs": []
    },
    {
      "cell_type": "markdown",
      "source": [
        "Explanation:\n",
        "\n",
        "The function takes two strings str1 and str2 as input and removes all non-alphanumeric characters from both strings using generator expressions.\n",
        "It then converts both strings to lowercase to make the comparison case-insensitive.\n",
        "It uses the built-in sorted function to sort the characters in both strings.\n",
        "It then checks if the sorted strings are equal. If they are equal, the original strings are anagrams of each other, and the function returns True. Otherwise, it returns False.\n",
        "Example usage:"
      ],
      "metadata": {
        "id": "yRGeVpEXTRN-"
      }
    },
    {
      "cell_type": "code",
      "source": [
        "str1 = \"listen\"\n",
        "str2 = \"silent\"\n",
        "are_anagrams_result = are_anagrams(str1, str2)\n",
        "print(are_anagrams_result)  # Output: True\n",
        "\n",
        "str1 = \"hello\"\n",
        "str2 = \"world\"\n",
        "are_anagrams_result = are_anagrams(str1, str2)\n",
        "print(are_anagrams_result)  # Output: False"
      ],
      "metadata": {
        "colab": {
          "base_uri": "https://localhost:8080/"
        },
        "id": "9rXKAR4uTLIs",
        "outputId": "2475282d-3c7b-4241-e351-349fdb480fd4"
      },
      "execution_count": 10,
      "outputs": [
        {
          "output_type": "stream",
          "name": "stdout",
          "text": [
            "True\n",
            "False\n"
          ]
        }
      ]
    },
    {
      "cell_type": "markdown",
      "source": [
        "Alternatively, you can also use a counter-based approach to check if two strings are anagrams:\n",
        "\n",
        "python\n",
        "\n"
      ],
      "metadata": {
        "id": "Hcx8YdRMTZc0"
      }
    },
    {
      "cell_type": "code",
      "source": [
        "from collections import Counter\n",
        "\n",
        "def are_anagrams(str1, str2):\n",
        "    \"\"\"\n",
        "    This function takes two strings as input and returns True if they are anagrams of each other, False otherwise.\n",
        "    \"\"\"\n",
        "    # Remove non-alphanumeric characters and convert to lowercase\n",
        "    str1 = ''.join(c for c in str1 if c.isalnum()).lower()\n",
        "    str2 = ''.join(c for c in str2 if c.isalnum()).lower()\n",
        "\n",
        "    # Check if character counts are equal\n",
        "    return Counter(str1) == Counter(str2)"
      ],
      "metadata": {
        "id": "XsVyliPTTVc8"
      },
      "execution_count": 11,
      "outputs": []
    },
    {
      "cell_type": "markdown",
      "source": [
        "his implementation has a time complexity of O(n), where n is the length of the string, and a space complexity of O(n) due to the counter data structure."
      ],
      "metadata": {
        "id": "XW_FxK0mTihO"
      }
    },
    {
      "cell_type": "markdown",
      "source": [
        "## 5- Write to code find all occurrences of a given substrings within another string.\n",
        "ans = Here is a simple code to find all occurrences of a given substring within another string in Python:"
      ],
      "metadata": {
        "id": "Pxjw6WFHTkmV"
      }
    },
    {
      "cell_type": "code",
      "source": [
        "def find_substring_occurrences(main_string, sub_string):\n",
        "    \"\"\"\n",
        "    This function takes two strings as input and returns a list of indices where the substring occurs in the main string.\n",
        "    \"\"\"\n",
        "    indices = []\n",
        "    index = main_string.find(sub_string)\n",
        "    while index != -1:\n",
        "        indices.append(index)\n",
        "        index = main_string.find(sub_string, index + 1)\n",
        "    return indices"
      ],
      "metadata": {
        "id": "fkznOTy2Td70"
      },
      "execution_count": 12,
      "outputs": []
    },
    {
      "cell_type": "markdown",
      "source": [
        "Explanation:\n",
        "\n",
        "The function takes two strings main_string and sub_string as input.\n",
        "It uses the find method to search for the first occurrence of the substring in the main string.\n",
        "If the substring is found, its index is added to the indices list.\n",
        "The find method is called again with the starting index set to the previous index + 1 to continue searching for the next occurrence.\n",
        "This process continues until the substring is no longer found in the main string.\n",
        "The function returns a list of indices where the substring occurs in the main string.\n",
        "Example usage:"
      ],
      "metadata": {
        "id": "OpL9IiBCVHwW"
      }
    },
    {
      "cell_type": "code",
      "source": [
        "main_string = \"banana\"\n",
        "sub_string = \"na\"\n",
        "occurrences = find_substring_occurrences(main_string, sub_string)\n",
        "print(occurrences)  # Output: [2, 4]\n",
        "\n",
        "main_string = \"hello world\"\n",
        "sub_string = \"o\"\n",
        "occurrences = find_substring_occurrences(main_string, sub_string)\n",
        "print(occurrences)  # Output: [4, 7]"
      ],
      "metadata": {
        "colab": {
          "base_uri": "https://localhost:8080/"
        },
        "id": "j8Y7Px0TVGZa",
        "outputId": "fd25be03-0bd5-4549-cc00-d3ce9dce60e2"
      },
      "execution_count": 13,
      "outputs": [
        {
          "output_type": "stream",
          "name": "stdout",
          "text": [
            "[2, 4]\n",
            "[4, 7]\n"
          ]
        }
      ]
    },
    {
      "cell_type": "markdown",
      "source": [
        "Alternatively, you can also use a regular expression-based approach to find all occurrences of a given substring:"
      ],
      "metadata": {
        "id": "JuRbPVnwVQE8"
      }
    },
    {
      "cell_type": "code",
      "source": [
        "import re\n",
        "\n",
        "def find_substring_occurrences(main_string, sub_string):\n",
        "    \"\"\"\n",
        "    This function takes two strings as input and returns a list of indices where the substring occurs in the main string.\n",
        "    \"\"\"\n",
        "    pattern = re.escape(sub_string)\n",
        "    matches = re.finditer(pattern, main_string)\n",
        "    indices = [match.start() for match in matches]\n",
        "    return indices"
      ],
      "metadata": {
        "id": "nKkO-tZ7VOzx"
      },
      "execution_count": 14,
      "outputs": []
    },
    {
      "cell_type": "markdown",
      "source": [
        "This implementation has a time complexity of O(n), where n is the length of the main string, and a space complexity of O(m), where m is the number of occurrences of the substring."
      ],
      "metadata": {
        "id": "RnughyROVa2i"
      }
    },
    {
      "cell_type": "markdown",
      "source": [
        "## 6- Write a code to perform basic string compression using the counts of repeated characters.\n",
        "Ans = Write a code to perform basic string compression using the counts of repeated characters"
      ],
      "metadata": {
        "id": "7cBQensgVc2m"
      }
    },
    {
      "cell_type": "code",
      "source": [
        "def compress_string(input_string):\n",
        "    \"\"\"\n",
        "    This function takes a string as input and returns a compressed string\n",
        "    where repeated characters are replaced with the character and its count.\n",
        "    \"\"\"\n",
        "    compressed_string = \"\"\n",
        "    count = 1\n",
        "    for i in range(len(input_string) - 1):\n",
        "        if input_string[i] == input_string[i + 1]:\n",
        "            count += 1\n",
        "        else:\n",
        "            compressed_string += input_string[i] + str(count)\n",
        "            count = 1\n",
        "    compressed_string += input_string[-1] + str(count)\n",
        "    return compressed_string"
      ],
      "metadata": {
        "id": "2_JuyTrJVWFS"
      },
      "execution_count": 15,
      "outputs": []
    },
    {
      "cell_type": "markdown",
      "source": [
        "Explanation:\n",
        "\n",
        "The function takes a string as input and initializes an empty string compressed_string to store the compressed result.\n",
        "It iterates through the input string, keeping a count of consecutive repeated characters.\n",
        "When a character changes, it appends the character and its count to the compressed_string and resets the count to 1.\n",
        "Finally, it appends the last character and its count to the compressed_string.\n",
        "The function returns the compressed string."
      ],
      "metadata": {
        "id": "SwPoHuMNWYe3"
      }
    },
    {
      "cell_type": "code",
      "source": [
        "input_string = \"aabcccccaaa\"\n",
        "compressed_string = compress_string(input_string)\n",
        "print(compressed_string)  # Output: a2b1c5a3"
      ],
      "metadata": {
        "colab": {
          "base_uri": "https://localhost:8080/"
        },
        "id": "Oe1gvrmRWXGL",
        "outputId": "39e64f3f-637a-4bdf-f690-ebc9858242f2"
      },
      "execution_count": 16,
      "outputs": [
        {
          "output_type": "stream",
          "name": "stdout",
          "text": [
            "a2b1c5a3\n"
          ]
        }
      ]
    },
    {
      "cell_type": "markdown",
      "source": [
        "Note that this implementation only compresses consecutive repeated characters. If the compressed string is longer than the original string, it may not be an optimal compression."
      ],
      "metadata": {
        "id": "8F7Y5wvQWhBk"
      }
    },
    {
      "cell_type": "markdown",
      "source": [
        "## 7- Write a code to determine if a string has all unique characters.\n",
        "Ans = Here is a Python code to determine if a string has all unique characters:"
      ],
      "metadata": {
        "id": "cSco67ObWlgm"
      }
    },
    {
      "cell_type": "code",
      "source": [
        "def has_unique_characters(input_string):\n",
        "    \"\"\"\n",
        "    This function takes a string as input and returns a boolean indicating\n",
        "    whether the string has all unique characters.\n",
        "    \"\"\"\n",
        "    return len(input_string) == len(set(input_string))"
      ],
      "metadata": {
        "id": "3Mu7R13aWfVD"
      },
      "execution_count": 17,
      "outputs": []
    },
    {
      "cell_type": "markdown",
      "source": [
        "Explanation:\n",
        "\n",
        "The function takes a string as input and uses the set data structure to remove duplicates.\n",
        "It then compares the length of the original string with the length of the set.\n",
        "If the lengths are equal, it means all characters in the string are unique, and the function returns True.\n",
        "Otherwise, it returns False.\n",
        "Example Usges:-"
      ],
      "metadata": {
        "id": "9yshrEy1XWrk"
      }
    },
    {
      "cell_type": "code",
      "source": [
        "input_string = \"abcdefg\"\n",
        "print(has_unique_characters(input_string))  # Output: True\n",
        "\n",
        "input_string = \"abcdefga\"\n",
        "print(has_unique_characters(input_string))  # Output: False"
      ],
      "metadata": {
        "colab": {
          "base_uri": "https://localhost:8080/"
        },
        "id": "M7pH9BKVXVkG",
        "outputId": "c316b12d-b9c2-481b-b01c-76f59ab3e23a"
      },
      "execution_count": 18,
      "outputs": [
        {
          "output_type": "stream",
          "name": "stdout",
          "text": [
            "True\n",
            "False\n"
          ]
        }
      ]
    },
    {
      "cell_type": "markdown",
      "source": [
        "Alternatively, you can also use a dictionary to keep track of character frequencies:"
      ],
      "metadata": {
        "id": "_SbLkVHvY57G"
      }
    },
    {
      "cell_type": "code",
      "source": [
        "def has_unique_characters(input_string):\n",
        "    \"\"\"\n",
        "    This function takes a string as input and returns a boolean indicating\n",
        "    whether the string has all unique characters.\n",
        "    \"\"\"\n",
        "    char_frequency = {}\n",
        "    for char in input_string:\n",
        "        if char in char_frequency:\n",
        "            return False\n",
        "        char_frequency[char] = 1\n",
        "    return True"
      ],
      "metadata": {
        "id": "rJqLefLeXr6y"
      },
      "execution_count": 19,
      "outputs": []
    },
    {
      "cell_type": "markdown",
      "source": [
        "## 8- Write a code to convert a given string to upper case or lower case.\n",
        "Ans = Here is a Python code to convert a given string to upper case or lower case:"
      ],
      "metadata": {
        "id": "9_RRQB1wZCOZ"
      }
    },
    {
      "cell_type": "code",
      "source": [
        "def convert_case(input_string, case_type):\n",
        "    \"\"\"\n",
        "    This function takes a string as input and converts it to either upper case or lower case.\n",
        "    \"\"\"\n",
        "    if case_type == \"upper\":\n",
        "        return input_string.upper()\n",
        "    elif case_type == \"lower\":\n",
        "        return input_string.lower()\n",
        "    else:\n",
        "        raise ValueError(\"Invalid case type. Please specify 'upper' or 'lower'.\")"
      ],
      "metadata": {
        "id": "sbRRiHueY8zs"
      },
      "execution_count": 20,
      "outputs": []
    },
    {
      "cell_type": "markdown",
      "source": [
        "Explanation:\n",
        "\n",
        "The function takes two inputs: input_string (the string to be converted) and case_type (either \"upper\" or \"lower\").\n",
        "It uses the built-in upper() and lower() methods of the string class to perform the conversion.\n",
        "If case_type is \"upper\", it returns the input string in upper case using input_string.upper().\n",
        "If case_type is \"lower\", it returns the input string in lower case using input_string.lower().\n",
        "If case_type is neither \"upper\" nor \"lower\", it raises a ValueError with an error message.\n",
        "Example usage:"
      ],
      "metadata": {
        "id": "KkF51C4cZtHE"
      }
    },
    {
      "cell_type": "code",
      "source": [
        "input_string = \"hello world\"\n",
        "print(convert_case(input_string, \"upper\"))  # Output: HELLO WORLD\n",
        "print(convert_case(input_string, \"lower\"))  # Output: hello world"
      ],
      "metadata": {
        "colab": {
          "base_uri": "https://localhost:8080/"
        },
        "id": "-mQvTT3lZrmJ",
        "outputId": "13b3953d-77bd-4827-8dcb-29e2a4b254da"
      },
      "execution_count": 21,
      "outputs": [
        {
          "output_type": "stream",
          "name": "stdout",
          "text": [
            "HELLO WORLD\n",
            "hello world\n"
          ]
        }
      ]
    },
    {
      "cell_type": "markdown",
      "source": [
        "Alternatively, you can also use the casefold() method to convert a string to a case-folded version, which is similar to lower case but handles Unicode characters more accurately:"
      ],
      "metadata": {
        "id": "pj3_OZ-xaPXs"
      }
    },
    {
      "cell_type": "code",
      "source": [
        "def convert_case(input_string, case_type):\n",
        "    if case_type == \"upper\":\n",
        "        return input_string.upper()\n",
        "    elif case_type == \"lower\":\n",
        "        return input_string.casefold()\n",
        "    else:\n",
        "        raise ValueError(\"Invalid case type. Please specify 'upper' or 'lower'.\")"
      ],
      "metadata": {
        "id": "IHrUTql_aN-6"
      },
      "execution_count": 22,
      "outputs": []
    },
    {
      "cell_type": "markdown",
      "source": [
        "## 9- Write a code to count the number of words in a  strings.\n",
        "Ans= Here is a Python code to count the number of words in a string:\n"
      ],
      "metadata": {
        "id": "F784lCiFaXjV"
      }
    },
    {
      "cell_type": "code",
      "source": [
        "def count_words(input_string):\n",
        "    \"\"\"\n",
        "    This function takes a string as input and returns the number of words in the string.\n",
        "    \"\"\"\n",
        "    return len(input_string.split())"
      ],
      "metadata": {
        "id": "7l95YLGVaVga"
      },
      "execution_count": 23,
      "outputs": []
    },
    {
      "cell_type": "markdown",
      "source": [
        "Explanation:\n",
        "\n",
        "The function takes a string as input and uses the split() method to split the string into a list of words.\n",
        "The split() method splits the string at each whitespace character (space, tab, newline, etc.) and returns a list of substrings.\n",
        "The len() function is then used to count the number of elements in the list, which represents the number of words in the string.\n",
        "Example usage:"
      ],
      "metadata": {
        "id": "xP2-aHXwbFCv"
      }
    },
    {
      "cell_type": "code",
      "source": [
        "input_string = \"This is a sample string\"\n",
        "print(count_words(input_string))  # Output: 5\n",
        "\n",
        "input_string = \"Hello   world\"\n",
        "print(count_words(input_string))  # Output: 2"
      ],
      "metadata": {
        "colab": {
          "base_uri": "https://localhost:8080/"
        },
        "id": "96eR5JeKbD_R",
        "outputId": "f3c6fa8d-633f-4794-fa10-fe41df4aa99a"
      },
      "execution_count": 24,
      "outputs": [
        {
          "output_type": "stream",
          "name": "stdout",
          "text": [
            "5\n",
            "2\n"
          ]
        }
      ]
    },
    {
      "cell_type": "markdown",
      "source": [
        "Alternatively, you can also use the re module and regular expressions to count the number of words:"
      ],
      "metadata": {
        "id": "t6CfxwvdbRhl"
      }
    },
    {
      "cell_type": "code",
      "source": [
        "import re\n",
        "\n",
        "def count_words(input_string):\n",
        "    return len(re.findall(r'\\b\\w+\\b', input_string))"
      ],
      "metadata": {
        "id": "V_DWtM48bOR8"
      },
      "execution_count": 25,
      "outputs": []
    },
    {
      "cell_type": "markdown",
      "source": [
        "This implementation uses the \\b\\w+\\b regular expression to match word boundaries (\\b) and one or more word characters (\\w+). The findall() method returns a list of all matches, and the len() function is used to count the number of matches."
      ],
      "metadata": {
        "id": "uePXfoTzbYk8"
      }
    },
    {
      "cell_type": "markdown",
      "source": [
        "## 10- Write a code to concatenate two strings without using + operator.\n",
        "Ans= Here is a Python code to concatenate two strings without using the + operator:"
      ],
      "metadata": {
        "id": "AZjjZHC4bbba"
      }
    },
    {
      "cell_type": "code",
      "source": [
        "def concatenate_strings(str1, str2):\n",
        "    \"\"\"\n",
        "    This function takes two strings as input and returns their concatenation.\n",
        "    \"\"\"\n",
        "    return \"\".join([str1, str2])"
      ],
      "metadata": {
        "id": "p9LdMot0bVNR"
      },
      "execution_count": 26,
      "outputs": []
    },
    {
      "cell_type": "markdown",
      "source": [
        "Explanation:\n",
        "\n",
        "The function takes two strings as input, str1 and str2.\n",
        "The join() method is used to concatenate the two strings.\n",
        "The join() method takes an iterable (in this case, a list of two strings) and concatenates its elements into a single string.\n",
        "The \"\" empty string is used as the separator, which means that the strings will be concatenated without any separator.\n",
        "Example usage:"
      ],
      "metadata": {
        "id": "LAPWoiLTcju0"
      }
    },
    {
      "cell_type": "code",
      "source": [
        "str1 = \"Hello\"\n",
        "str2 = \"World\"\n",
        "print(concatenate_strings(str1, str2))  # Output: HelloWorld"
      ],
      "metadata": {
        "colab": {
          "base_uri": "https://localhost:8080/"
        },
        "id": "6F-PkMkYcggZ",
        "outputId": "d74eaaee-91b9-492c-b692-c5169d485222"
      },
      "execution_count": 27,
      "outputs": [
        {
          "output_type": "stream",
          "name": "stdout",
          "text": [
            "HelloWorld\n"
          ]
        }
      ]
    },
    {
      "cell_type": "markdown",
      "source": [
        "Alternatively, you can also use the % operator or the format() method to concatenate strings:\n",
        "\n",
        "python"
      ],
      "metadata": {
        "id": "zoS5Xz7ScxE8"
      }
    },
    {
      "cell_type": "code",
      "source": [
        "def concatenate_strings(str1, str2):\n",
        "    return \"%s%s\" % (str1, str2)\n",
        "\n",
        "# or\n",
        "\n",
        "def concatenate_strings(str1, str2):\n",
        "    return \"{}{}\".format(str1, str2)"
      ],
      "metadata": {
        "id": "IhFVNX25curt"
      },
      "execution_count": 28,
      "outputs": []
    },
    {
      "cell_type": "markdown",
      "source": [
        "These implementations use string formatting to concatenate the two strings."
      ],
      "metadata": {
        "id": "ucgIE8J8c8Hu"
      }
    },
    {
      "cell_type": "markdown",
      "source": [
        "## 11- Write a code to remove all occurrences of a specific elements from a list.\n",
        "ans = Here is a Python code to remove all occurrences of a specific element from a list:"
      ],
      "metadata": {
        "id": "WQQDSWP5c-AX"
      }
    },
    {
      "cell_type": "code",
      "source": [
        "def remove_element(lst, element):\n",
        "    \"\"\"\n",
        "    This function takes a list and an element as input and returns a new list with all occurrences of the element removed.\n",
        "    \"\"\"\n",
        "    return [i for i in lst if i != element]"
      ],
      "metadata": {
        "id": "QgZtFBhgc3HZ"
      },
      "execution_count": 29,
      "outputs": []
    },
    {
      "cell_type": "markdown",
      "source": [
        "Explanation:\n",
        "\n",
        "The function takes a list lst and an element element as input.\n",
        "The list comprehension is used to create a new list that includes only the elements that are not equal to the specified element.\n",
        "The if condition i != element filters out the elements that are equal to the specified element.\n",
        "Example usage:"
      ],
      "metadata": {
        "id": "UPN_IC8TdxF4"
      }
    },
    {
      "cell_type": "code",
      "source": [
        "lst = [1, 2, 3, 4, 2, 5, 2]\n",
        "element = 2\n",
        "print(remove_element(lst, element))  # Output: [1, 3, 4, 5]"
      ],
      "metadata": {
        "colab": {
          "base_uri": "https://localhost:8080/"
        },
        "id": "CRbF8xVddu6r",
        "outputId": "1284ee4f-3efc-4350-bf7a-2d666ee3cb86"
      },
      "execution_count": 30,
      "outputs": [
        {
          "output_type": "stream",
          "name": "stdout",
          "text": [
            "[1, 3, 4, 5]\n"
          ]
        }
      ]
    },
    {
      "cell_type": "markdown",
      "source": [
        "Alternatively, you can also use the filter() function to remove all occurrences of a specific element from a list:"
      ],
      "metadata": {
        "id": "iRXNGVoDeSmP"
      }
    },
    {
      "cell_type": "code",
      "source": [
        "def remove_element(lst, element):\n",
        "    return list(filter(lambda x: x != element, lst))"
      ],
      "metadata": {
        "id": "A1X6RhpVd7te"
      },
      "execution_count": 31,
      "outputs": []
    },
    {
      "cell_type": "markdown",
      "source": [
        "This implementation uses the filter() function to create an iterator that filters out the elements that are equal to the specified element, and then converts the iterator to a list using the list() function.\n",
        "\n",
        "If you want to modify the original list instead of creating a new one, you can use a loop to remove the elements:"
      ],
      "metadata": {
        "id": "KLAcv-z8effO"
      }
    },
    {
      "cell_type": "code",
      "source": [
        "def remove_element(lst, element):\n",
        "    while element in lst:\n",
        "        lst.remove(element)\n",
        "    return lst"
      ],
      "metadata": {
        "id": "cJDeB3_YeYON"
      },
      "execution_count": 32,
      "outputs": []
    },
    {
      "cell_type": "markdown",
      "source": [
        "his implementation uses a while loop to repeatedly remove the specified element from the list until it is no longer present."
      ],
      "metadata": {
        "id": "-Hw3vcpdemBf"
      }
    },
    {
      "cell_type": "markdown",
      "source": [
        "## 12- Implement a code to find the second largest number in a given list of integers.\n",
        "Ans = Here is a Python code to find the second largest number in a given list of integers:"
      ],
      "metadata": {
        "id": "J9pB8Qj8e7lS"
      }
    },
    {
      "cell_type": "code",
      "source": [
        "def second_largest(lst):\n",
        "    \"\"\"\n",
        "    This function takes a list of integers as input and returns the second largest number.\n",
        "    \"\"\"\n",
        "    if len(lst) < 2:\n",
        "        return None  # Return None if the list has less than 2 elements\n",
        "    largest = second_largest = float('-inf')  # Initialize largest and second largest to negative infinity\n",
        "    for num in lst:\n",
        "        if num > largest:\n",
        "            second_largest = largest\n",
        "            largest = num\n",
        "        elif num > second_largest and num != largest:\n",
        "            second_largest = num\n",
        "    return second_largest"
      ],
      "metadata": {
        "id": "2KsIffsDejf2"
      },
      "execution_count": 33,
      "outputs": []
    },
    {
      "cell_type": "markdown",
      "source": [
        "Explanation:\n",
        "\n",
        "The function takes a list of integers lst as input.\n",
        "It first checks if the list has less than 2 elements, and returns None if so.\n",
        "It initializes largest and second_largest to negative infinity.\n",
        "It then iterates over the list, and for each number:\n",
        "If the number is greater than largest, it updates second_largest to the current largest and updates largest to the current number.\n",
        "If the number is greater than second_largest and not equal to largest, it updates second_largest to the current number.\n",
        "Finally, it returns the second_largest number.\n",
        "Example usage:\n",
        "\n",
        "python"
      ],
      "metadata": {
        "id": "O8R2g1EHf0EK"
      }
    },
    {
      "cell_type": "code",
      "source": [
        "lst = [12, 34, 5, 67, 89, 34]\n",
        "print(second_largest(lst))  # Output: 67"
      ],
      "metadata": {
        "colab": {
          "base_uri": "https://localhost:8080/"
        },
        "id": "rMPVt_vIfwjO",
        "outputId": "1d9dc2f4-decf-4515-efc7-797a9089b7a2"
      },
      "execution_count": 34,
      "outputs": [
        {
          "output_type": "stream",
          "name": "stdout",
          "text": [
            "67\n"
          ]
        }
      ]
    },
    {
      "cell_type": "markdown",
      "source": [
        "Alternatively, you can also use the sorted() function to find the second largest number:"
      ],
      "metadata": {
        "id": "OgTqbz8Bf9Jw"
      }
    },
    {
      "cell_type": "code",
      "source": [
        "def second_largest(lst):\n",
        "    return sorted(lst)[-2]"
      ],
      "metadata": {
        "id": "3YUxEbNnf66h"
      },
      "execution_count": 35,
      "outputs": []
    },
    {
      "cell_type": "markdown",
      "source": [
        "## 13- Create a code to count the occurrences of each element in a list return a dictionary with element as a keys and counts as values.\n",
        "Ans=  Here is a Python code to count the occurrences of each element in a list and return a dictionary with elements as keys and counts as values:"
      ],
      "metadata": {
        "id": "snQLNqs2gFE7"
      }
    },
    {
      "cell_type": "code",
      "source": [
        "def count_elements(lst):\n",
        "    \"\"\"\n",
        "    This function takes a list as input and returns a dictionary with elements as keys and counts as values.\n",
        "    \"\"\"\n",
        "    element_counts = {}\n",
        "    for element in lst:\n",
        "        if element in element_counts:\n",
        "            element_counts[element] += 1\n",
        "        else:\n",
        "            element_counts[element] = 1\n",
        "    return element_counts"
      ],
      "metadata": {
        "id": "oRPKXtxUgCUf"
      },
      "execution_count": 36,
      "outputs": []
    },
    {
      "cell_type": "markdown",
      "source": [
        "Explanation:\n",
        "\n",
        "The function takes a list lst as input.\n",
        "It initializes an empty dictionary element_counts to store the element counts.\n",
        "It then iterates over the list, and for each element:\n",
        "If the element is already in the dictionary, it increments the count by 1.\n",
        "If the element is not in the dictionary, it adds the element to the dictionary with a count of 1.\n",
        "Finally, it returns the element_counts dictionary.\n",
        "Example usage:"
      ],
      "metadata": {
        "id": "jCPuR_K3h_oz"
      }
    },
    {
      "cell_type": "code",
      "source": [
        "lst = [1, 2, 2, 3, 4, 4, 4, 5]\n",
        "print(count_elements(lst))  # Output: {1: 1, 2: 2, 3: 1, 4: 3, 5: 1}"
      ],
      "metadata": {
        "colab": {
          "base_uri": "https://localhost:8080/"
        },
        "id": "wbBQMLWah54F",
        "outputId": "ad308644-45f9-48a0-dc84-f10d377325c4"
      },
      "execution_count": 37,
      "outputs": [
        {
          "output_type": "stream",
          "name": "stdout",
          "text": [
            "{1: 1, 2: 2, 3: 1, 4: 3, 5: 1}\n"
          ]
        }
      ]
    },
    {
      "cell_type": "markdown",
      "source": [
        "Alternatively, you can also use the collections.Counter class to count the occurrences of each element in a list:\n",
        "\n",
        "python"
      ],
      "metadata": {
        "id": "cSf97nAbiIni"
      }
    },
    {
      "cell_type": "code",
      "source": [
        "from collections import Counter\n",
        "\n",
        "def count_elements(lst):\n",
        "    return dict(Counter(lst))"
      ],
      "metadata": {
        "id": "r7r-PbIniHH7"
      },
      "execution_count": 38,
      "outputs": []
    },
    {
      "cell_type": "markdown",
      "source": [
        "This implementation uses the Counter class to count the occurrences of each element in the list, and then converts the Counter object to a dictionary using the dict() function."
      ],
      "metadata": {
        "id": "iOfeTS3RiSsU"
      }
    },
    {
      "cell_type": "markdown",
      "source": [
        "## 14- Write a code to reverse a list in place without using any build in reverse functions.\n",
        "Ans= Here is a Python code to reverse a list in place without using any built-in reverse functions:\n"
      ],
      "metadata": {
        "id": "zMAP622AiZDz"
      }
    },
    {
      "cell_type": "code",
      "source": [
        "def reverse_list(lst):\n",
        "    \"\"\"\n",
        "    This function takes a list as input and reverses it in place without using any built-in reverse functions.\n",
        "    \"\"\"\n",
        "    start = 0\n",
        "    end = len(lst) - 1\n",
        "    while start < end:\n",
        "        lst[start], lst[end] = lst[end], lst[start]\n",
        "        start += 1\n",
        "        end -= 1\n",
        "    return lst"
      ],
      "metadata": {
        "id": "3ErtQXAviOhR"
      },
      "execution_count": 39,
      "outputs": []
    },
    {
      "cell_type": "markdown",
      "source": [
        "Explanation:\n",
        "\n",
        "The function takes a list lst as input.\n",
        "It initializes two pointers, start and end, to the beginning and end of the list, respectively.\n",
        "It then enters a loop that continues until start is no longer less than end.\n",
        "In each iteration of the loop, it swaps the elements at the start and end indices using tuple assignment.\n",
        "It then increments start and decrements end to move the pointers towards the center of the list.\n",
        "Finally, it returns the modified list.\n",
        "Example usage:\n"
      ],
      "metadata": {
        "id": "IfbVeGwzjqQQ"
      }
    },
    {
      "cell_type": "code",
      "source": [
        "lst = [1, 2, 3, 4, 5]\n",
        "print(reverse_list(lst))  # Output: [5, 4, 3, 2, 1]"
      ],
      "metadata": {
        "colab": {
          "base_uri": "https://localhost:8080/"
        },
        "id": "DSoQP3gNjl3K",
        "outputId": "4c3dba0b-a295-4665-f545-3118e9608132"
      },
      "execution_count": 40,
      "outputs": [
        {
          "output_type": "stream",
          "name": "stdout",
          "text": [
            "[5, 4, 3, 2, 1]\n"
          ]
        }
      ]
    },
    {
      "cell_type": "markdown",
      "source": [
        "Note that this implementation has a time complexity of O(n/2), where n is the length of the list, since it only needs to iterate over half of the list to reverse it."
      ],
      "metadata": {
        "id": "l3dc2eEOj4pt"
      }
    },
    {
      "cell_type": "markdown",
      "source": [
        "## 15- Implement a code to find and remove dublicates from a list while preserving the original of elements.\n",
        "Ans = Here is a Python code to find and remove duplicates from a list while preserving the original order of elements:"
      ],
      "metadata": {
        "id": "enZx4Haij6sk"
      }
    },
    {
      "cell_type": "code",
      "source": [
        "def remove_duplicates(lst):\n",
        "    \"\"\"\n",
        "    This function takes a list as input and returns a new list with duplicates removed, preserving the original order of elements.\n",
        "    \"\"\"\n",
        "    seen = set()\n",
        "    new_lst = []\n",
        "    for element in lst:\n",
        "        if element not in seen:\n",
        "            seen.add(element)\n",
        "            new_lst.append(element)\n",
        "    return new_lst"
      ],
      "metadata": {
        "id": "pCwkbR_Tj0AR"
      },
      "execution_count": 41,
      "outputs": []
    },
    {
      "cell_type": "markdown",
      "source": [
        "Explanation:\n",
        "\n",
        "The function takes a list lst as input.\n",
        "It initializes an empty set seen to keep track of the elements that have been seen so far.\n",
        "It initializes an empty list new_lst to store the elements without duplicates.\n",
        "It then iterates over the input list, and for each element:\n",
        "It checks if the element is not in the seen set.\n",
        "If the element is not in the seen set, it adds the element to the seen set and appends it to the new_lst.\n",
        "Finally, it returns the new_lst with duplicates removed.\n",
        "Example usage:"
      ],
      "metadata": {
        "id": "GJvYG-U4mfDS"
      }
    },
    {
      "cell_type": "code",
      "source": [
        "lst = [1, 2, 2, 3, 4, 4, 4, 5]\n",
        "print(remove_duplicates(lst))  # Output: [1, 2, 3, 4, 5]"
      ],
      "metadata": {
        "colab": {
          "base_uri": "https://localhost:8080/"
        },
        "id": "FcbS7Orzmcg3",
        "outputId": "00b7e220-93a7-4bf6-f5a8-995a7000d68b"
      },
      "execution_count": 42,
      "outputs": [
        {
          "output_type": "stream",
          "name": "stdout",
          "text": [
            "[1, 2, 3, 4, 5]\n"
          ]
        }
      ]
    },
    {
      "cell_type": "markdown",
      "source": [
        "Alternatively, you can also use a dictionary to preserve the original order of elements:"
      ],
      "metadata": {
        "id": "8O6_81wDmsdU"
      }
    },
    {
      "cell_type": "code",
      "source": [
        "def remove_duplicates(lst):\n",
        "    return list(dict.fromkeys(lst))"
      ],
      "metadata": {
        "id": "jHaO2f0ampNH"
      },
      "execution_count": 43,
      "outputs": []
    },
    {
      "cell_type": "markdown",
      "source": [
        "This implementation uses the dict.fromkeys() method to create a dictionary with the elements of the list as keys, which automatically removes duplicates. The list() function is then used to convert the dictionary keys back to a list."
      ],
      "metadata": {
        "id": "DSbg-dYUm4Ia"
      }
    },
    {
      "cell_type": "markdown",
      "source": [
        "## 16- Create a code to check if a given list is sorted ( either in ascending or descending order) or not.\n",
        "Ans- Here is a Python code to check if a given list is sorted (either in ascending or descending order) or not:"
      ],
      "metadata": {
        "id": "29675Cvxm-BZ"
      }
    },
    {
      "cell_type": "code",
      "source": [
        "def is_sorted(lst):\n",
        "    \"\"\"\n",
        "    This function takes a list as input and returns True if the list is sorted (either in ascending or descending order), False otherwise.\n",
        "    \"\"\"\n",
        "    return all(lst[i] <= lst[i+1] for i in range(len(lst)-1)) or all(lst[i] >= lst[i+1] for i in range(len(lst)-1))"
      ],
      "metadata": {
        "id": "E_3KkmMEm8nK"
      },
      "execution_count": 44,
      "outputs": []
    },
    {
      "cell_type": "markdown",
      "source": [
        "Explanation:\n",
        "\n",
        "The function takes a list lst as input.\n",
        "It uses the all() function to check if all elements in the list satisfy a certain condition.\n",
        "The condition is specified using a generator expression that iterates over the indices of the list.\n",
        "For each index i, it checks if the element at index i is less than or equal to the element at index i+1 (for ascending order) or greater than or equal to the element at index i+1 (for descending order).\n",
        "If all elements satisfy the condition, the all() function returns True, indicating that the list is sorted.\n",
        "If any element does not satisfy the condition, the all() function returns False, indicating that the list is not sorted.\n",
        "Example usage:"
      ],
      "metadata": {
        "id": "kLb1gqYQo3Zo"
      }
    },
    {
      "cell_type": "code",
      "source": [
        "lst1 = [1, 2, 3, 4, 5]\n",
        "print(is_sorted(lst1))  # Output: True\n",
        "\n",
        "lst2 = [5, 4, 3, 2, 1]\n",
        "print(is_sorted(lst2))  # Output: True\n",
        "\n",
        "lst3 = [1, 3, 2, 4, 5]\n",
        "print(is_sorted(lst3))  # Output: False"
      ],
      "metadata": {
        "colab": {
          "base_uri": "https://localhost:8080/"
        },
        "id": "jK6OKMxdmw7y",
        "outputId": "c313995e-89b2-4c4d-e68e-51909dbd0039"
      },
      "execution_count": 45,
      "outputs": [
        {
          "output_type": "stream",
          "name": "stdout",
          "text": [
            "True\n",
            "True\n",
            "False\n"
          ]
        }
      ]
    },
    {
      "cell_type": "markdown",
      "source": [
        "Alternatively, you can also use the sorted() function to check if a list is sorted:"
      ],
      "metadata": {
        "id": "19img5AdpG46"
      }
    },
    {
      "cell_type": "code",
      "source": [
        "def is_sorted(lst):\n",
        "    return lst == sorted(lst) or lst == sorted(lst, reverse=True)\n",
        ""
      ],
      "metadata": {
        "id": "KF-axZQHpB0i"
      },
      "execution_count": null,
      "outputs": []
    },
    {
      "cell_type": "markdown",
      "source": [
        "This implementation uses the sorted() function to sort the list in ascending and descending order, and then checks if the original list is equal to either of the sorted lists."
      ],
      "metadata": {
        "id": "L2Rbs9-BpTFL"
      }
    },
    {
      "cell_type": "markdown",
      "source": [
        "## 17- Write a code to merge two sorted lists into a single sorted list.\n",
        "Ans= Here is a Python code to merge two sorted lists into a single sorted list:"
      ],
      "metadata": {
        "id": "9-4W7IVfpXhD"
      }
    },
    {
      "cell_type": "code",
      "source": [
        "def merge_sorted_lists(lst1, lst2):\n",
        "    \"\"\"\n",
        "    This function takes two sorted lists as input and returns a new sorted list that is the merge of the two input lists.\n",
        "    \"\"\"\n",
        "    result = []\n",
        "    i, j = 0, 0\n",
        "\n",
        "    while i < len(lst1) and j < len(lst2):\n",
        "        if lst1[i] <= lst2[j]:\n",
        "            result.append(lst1[i])\n",
        "            i += 1\n",
        "        else:\n",
        "            result.append(lst2[j])\n",
        "            j += 1\n",
        "\n",
        "    result.extend(lst1[i:])\n",
        "    result.extend(lst2[j:])\n",
        "\n",
        "    return result"
      ],
      "metadata": {
        "id": "rHH7KBvRpVCc"
      },
      "execution_count": 46,
      "outputs": []
    },
    {
      "cell_type": "markdown",
      "source": [
        "Explanation:\n",
        "\n",
        "The function takes two sorted lists lst1 and lst2 as input.\n",
        "It initializes an empty list result to store the merged list.\n",
        "It initializes two indices i and j to 0, which will be used to iterate over the two input lists.\n",
        "The function then enters a loop that continues until one of the lists is fully processed.\n",
        "Inside the loop, it compares the current elements of the two lists and appends the smaller one to the result list.\n",
        "Once one of the lists is fully processed, the remaining elements of the other list are appended to the result list using the extend() method.\n",
        "Finally, the function returns the merged result list.\n",
        "Example usage:"
      ],
      "metadata": {
        "id": "idgTOQ5krI3J"
      }
    },
    {
      "cell_type": "code",
      "source": [
        "lst1 = [1, 3, 5, 7]\n",
        "lst2 = [2, 4, 6, 8]\n",
        "\n",
        "print(merge_sorted_lists(lst1, lst2))  # Output: [1, 2, 3, 4, 5, 6, 7, 8]"
      ],
      "metadata": {
        "colab": {
          "base_uri": "https://localhost:8080/"
        },
        "id": "qdQITHi3rCqj",
        "outputId": "040bb486-936d-48d0-b7e1-3c8df71fa078"
      },
      "execution_count": 47,
      "outputs": [
        {
          "output_type": "stream",
          "name": "stdout",
          "text": [
            "[1, 2, 3, 4, 5, 6, 7, 8]\n"
          ]
        }
      ]
    },
    {
      "cell_type": "markdown",
      "source": [
        "Alternatively, you can also use the heapq module to merge the two sorted lists:"
      ],
      "metadata": {
        "id": "98tNH_IRrWvP"
      }
    },
    {
      "cell_type": "code",
      "source": [
        "import heapq\n",
        "\n",
        "def merge_sorted_lists(lst1, lst2):\n",
        "    return list(heapq.merge(lst1, lst2))"
      ],
      "metadata": {
        "id": "Q4n3B3O6rRZt"
      },
      "execution_count": 48,
      "outputs": []
    },
    {
      "cell_type": "markdown",
      "source": [
        "This implementation uses the heapq.merge() function to merge the two sorted lists into a single sorted list."
      ],
      "metadata": {
        "id": "2CI1LNlMrgQV"
      }
    },
    {
      "cell_type": "markdown",
      "source": [
        "## 18- Implement a code to find the intersection of two given lists.\n",
        "Ans= Here is a Python code to find the intersection of two given lists:"
      ],
      "metadata": {
        "id": "1XZzCsKirlHk"
      }
    },
    {
      "cell_type": "code",
      "source": [
        "def intersection(lst1, lst2):\n",
        "    \"\"\"\n",
        "    This function takes two lists as input and returns a new list that contains the elements that are common to both lists.\n",
        "    \"\"\"\n",
        "    return [element for element in lst1 if element in lst2]"
      ],
      "metadata": {
        "id": "d9Ne8jp5rcx9"
      },
      "execution_count": 49,
      "outputs": []
    },
    {
      "cell_type": "markdown",
      "source": [
        "Explanation:\n",
        "\n",
        "The function takes two lists lst1 and lst2 as input.\n",
        "It uses a list comprehension to create a new list that contains the elements that are common to both lists.\n",
        "The list comprehension iterates over the elements of lst1 and checks if each element is also present in lst2.\n",
        "If an element is found in both lists, it is added to the resulting list.\n",
        "Example usage:"
      ],
      "metadata": {
        "id": "V-TfMH0utNC9"
      }
    },
    {
      "cell_type": "code",
      "source": [
        "lst1 = [1, 2, 3, 4, 5]\n",
        "lst2 = [4, 5, 6, 7, 8]\n",
        "\n",
        "print(intersection(lst1, lst2))  # Output: [4, 5]"
      ],
      "metadata": {
        "colab": {
          "base_uri": "https://localhost:8080/"
        },
        "id": "dSFuhRbjtJLo",
        "outputId": "e4c15b1d-479e-49db-df59-5d4d3a78a4ef"
      },
      "execution_count": 50,
      "outputs": [
        {
          "output_type": "stream",
          "name": "stdout",
          "text": [
            "[4, 5]\n"
          ]
        }
      ]
    },
    {
      "cell_type": "markdown",
      "source": [
        "Alternatively, you can also use the set data structure to find the intersection of two lists:"
      ],
      "metadata": {
        "id": "aUCstXv4tDL_"
      }
    },
    {
      "cell_type": "code",
      "source": [
        "def intersection(lst1, lst2):\n",
        "    return list(set(lst1) & set(lst2))"
      ],
      "metadata": {
        "id": "LwHtKViws93D"
      },
      "execution_count": 51,
      "outputs": []
    },
    {
      "cell_type": "markdown",
      "source": [
        "This implementation converts the input lists to sets, computes the intersection of the two sets using the & operator, and then converts the resulting set back to a list."
      ],
      "metadata": {
        "id": "8a6GVODatsmq"
      }
    },
    {
      "cell_type": "markdown",
      "source": [
        "## 19 Create a code to find the union of two lists without duplicates.\n",
        "Ans = Here is a Python code to find the union of two lists without duplicates:"
      ],
      "metadata": {
        "id": "gaInYk6QtyBI"
      }
    },
    {
      "cell_type": "code",
      "source": [
        "def union(lst1, lst2):\n",
        "    \"\"\"\n",
        "    This function takes two lists as input and returns a new list that contains all the elements from both lists, without duplicates.\n",
        "    \"\"\"\n",
        "    return list(set(lst1 + lst2))"
      ],
      "metadata": {
        "id": "rEHR8Zgctogb"
      },
      "execution_count": 52,
      "outputs": []
    },
    {
      "cell_type": "markdown",
      "source": [
        "Explanation:\n",
        "\n",
        "The function takes two lists lst1 and lst2 as input.\n",
        "It concatenates the two lists using the + operator.\n",
        "It converts the resulting list to a set, which automatically removes duplicates.\n",
        "Finally, it converts the set back to a list using the list() function.\n",
        "Example usage:"
      ],
      "metadata": {
        "id": "ZrO85SGFvGo2"
      }
    },
    {
      "cell_type": "code",
      "source": [
        "lst1 = [1, 2, 3, 4, 5]\n",
        "lst2 = [4, 5, 6, 7, 8]\n",
        "\n",
        "print(union(lst1, lst2))  # Output: [1, 2, 3, 4, 5, 6, 7, 8]"
      ],
      "metadata": {
        "colab": {
          "base_uri": "https://localhost:8080/"
        },
        "id": "cMTotr8ovEm3",
        "outputId": "51a6001f-fa06-4aaa-9617-78b8f9ed5acc"
      },
      "execution_count": 53,
      "outputs": [
        {
          "output_type": "stream",
          "name": "stdout",
          "text": [
            "[1, 2, 3, 4, 5, 6, 7, 8]\n"
          ]
        }
      ]
    },
    {
      "cell_type": "markdown",
      "source": [
        "Alternatively, you can also use a list comprehension to achieve the same result:"
      ],
      "metadata": {
        "id": "cBPpoCafvRVV"
      }
    },
    {
      "cell_type": "code",
      "source": [
        "def union(lst1, lst2):\n",
        "    return [element for element in lst1 + lst2 if element not in lst1 or element not in lst2]"
      ],
      "metadata": {
        "id": "UxWNqkd-vNRJ"
      },
      "execution_count": 54,
      "outputs": []
    },
    {
      "cell_type": "markdown",
      "source": [
        "This implementation uses a list comprehension to create a new list that contains all the elements from both lists, without duplicates. It checks for each element if it is not present in both lists, and if so, adds it to the resulting list."
      ],
      "metadata": {
        "id": "7wYUfXRwveed"
      }
    },
    {
      "cell_type": "markdown",
      "source": [
        "## 20- Write a code to suffle a given list randomly without using any built-in suffle functions.\n",
        "Ans= Here is a Python code to shuffle a given list randomly without using any built-in shuffle functions:"
      ],
      "metadata": {
        "id": "vpOgwUwpvvTy"
      }
    },
    {
      "cell_type": "code",
      "source": [
        "import random\n",
        "\n",
        "def shuffle_list(lst):\n",
        "    \"\"\"\n",
        "    This function takes a list as input and returns a new list that contains the same elements, but in a random order.\n",
        "    \"\"\"\n",
        "    # Create a copy of the original list to avoid modifying it\n",
        "    lst_copy = lst.copy()\n",
        "\n",
        "    # Iterate over the indices of the list\n",
        "    for i in range(len(lst_copy)):\n",
        "        # Generate a random index j such that 0 <= j < len(lst_copy)\n",
        "        j = random.randint(0, len(lst_copy) - 1)\n",
        "\n",
        "        # Swap the elements at indices i and j\n",
        "        lst_copy[i], lst_copy[j] = lst_copy[j], lst_copy[i]\n",
        "\n",
        "    return lst_copy"
      ],
      "metadata": {
        "id": "Qpx-hD_evcrL"
      },
      "execution_count": 55,
      "outputs": []
    },
    {
      "cell_type": "markdown",
      "source": [
        "Explanation:\n",
        "\n",
        "The function takes a list lst as input and creates a copy of it to avoid modifying the original list.\n",
        "It iterates over the indices of the list using a for loop.\n",
        "For each index i, it generates a random index j using the random.randint function.\n",
        "It then swaps the elements at indices i and j using tuple assignment.\n",
        "Finally, it returns the shuffled list."
      ],
      "metadata": {
        "id": "bobuWrQ6wlDK"
      }
    },
    {
      "cell_type": "code",
      "source": [
        "lst = [1, 2, 3, 4, 5]\n",
        "print(shuffle_list(lst))  # Output: [3, 1, 5, 2, 4] (or some other random permutation)"
      ],
      "metadata": {
        "colab": {
          "base_uri": "https://localhost:8080/"
        },
        "id": "km55-To2wgfb",
        "outputId": "d7fb4733-4382-4148-b504-a769ae7968b6"
      },
      "execution_count": 56,
      "outputs": [
        {
          "output_type": "stream",
          "name": "stdout",
          "text": [
            "[4, 2, 3, 1, 5]\n"
          ]
        }
      ]
    },
    {
      "cell_type": "markdown",
      "source": [
        "Note that this implementation uses the Fisher-Yates shuffle algorithm, which is a widely used and efficient method for shuffling a list."
      ],
      "metadata": {
        "id": "RsUs71FMwuPO"
      }
    },
    {
      "cell_type": "markdown",
      "source": [
        "## 21- Write a code that takes two tuples as a input and returns a new tuples containing elements that are common to both input tuples.\n",
        "Ans = Here is a Python code that takes two tuples as input and returns a new tuple containing elements that are common to both input tuples:\n"
      ],
      "metadata": {
        "id": "6MyOclW3w4RC"
      }
    },
    {
      "cell_type": "code",
      "source": [
        "def common_elements(tuple1, tuple2):\n",
        "    \"\"\"\n",
        "    This function takes two tuples as input and returns a new tuple containing elements that are common to both input tuples.\n",
        "    \"\"\"\n",
        "    # Convert the tuples to sets to remove duplicates and improve lookup efficiency\n",
        "    set1 = set(tuple1)\n",
        "    set2 = set(tuple2)\n",
        "\n",
        "    # Use the set intersection operation to find the common elements\n",
        "    common = set1 & set2\n",
        "\n",
        "    # Convert the set of common elements back to a tuple\n",
        "    return tuple(common)"
      ],
      "metadata": {
        "id": "q-qpa5eXwpy9"
      },
      "execution_count": 57,
      "outputs": []
    },
    {
      "cell_type": "markdown",
      "source": [
        "Explanation:\n",
        "\n",
        "The function takes two tuples tuple1 and tuple2 as input.\n",
        "It converts the tuples to sets using the set() function to remove duplicates and improve lookup efficiency.\n",
        "It uses the set intersection operation (&) to find the common elements between the two sets.\n",
        "Finally, it converts the set of common elements back to a tuple using the tuple() function.\n",
        "Example usage:"
      ],
      "metadata": {
        "id": "HmGIhBH_ybKQ"
      }
    },
    {
      "cell_type": "code",
      "source": [
        "tuple1 = (1, 2, 3, 4, 5)\n",
        "tuple2 = (4, 5, 6, 7, 8)\n",
        "print(common_elements(tuple1, tuple2))  # Output: (4, 5)"
      ],
      "metadata": {
        "colab": {
          "base_uri": "https://localhost:8080/"
        },
        "id": "nWUD2hgiyZv8",
        "outputId": "623179f2-b558-4d4c-a265-a625ac8a7a1d"
      },
      "execution_count": 58,
      "outputs": [
        {
          "output_type": "stream",
          "name": "stdout",
          "text": [
            "(4, 5)\n"
          ]
        }
      ]
    },
    {
      "cell_type": "markdown",
      "source": [
        "Aternatively, you can also use a list comprehension to achieve the same result:"
      ],
      "metadata": {
        "id": "TB6KXirWyn5Z"
      }
    },
    {
      "cell_type": "code",
      "source": [
        "def common_elements(tuple1, tuple2):\n",
        "    return tuple(element for element in tuple1 if element in tuple2)"
      ],
      "metadata": {
        "id": "Qw3QdkPSyhjF"
      },
      "execution_count": 59,
      "outputs": []
    },
    {
      "cell_type": "markdown",
      "source": [
        "This implementation uses a generator expression to create a tuple that contains only the elements that are present in both input tuples."
      ],
      "metadata": {
        "id": "tlhl9mYMyzUA"
      }
    },
    {
      "cell_type": "markdown",
      "source": [
        "## 22- Create a code that prompts the user to enter two sets of integers seperated by commas.Then, print the intersections of these two sets.\n",
        "Ans = Here is a Python code that prompts the user to enter two sets of integers separated by commas, and then prints the intersection of these two sets:"
      ],
      "metadata": {
        "id": "BsK5Z3Z2y01J"
      }
    },
    {
      "cell_type": "code",
      "source": [
        "def get_set_from_user(prompt):\n",
        "    \"\"\"\n",
        "    This function prompts the user to enter a set of integers separated by commas, and returns a set of integers.\n",
        "    \"\"\"\n",
        "    user_input = input(prompt)\n",
        "    integers = [int(x) for x in user_input.split(',')]\n",
        "    return set(integers)\n",
        "\n",
        "def main():\n",
        "    print(\"Enter two sets of integers separated by commas:\")\n",
        "    set1 = get_set_from_user(\"Set 1: \")\n",
        "    set2 = get_set_from_user(\"Set 2: \")\n",
        "\n",
        "    intersection = set1 & set2\n",
        "\n",
        "    print(\"Intersection:\", intersection)\n",
        "\n",
        "if __name__ == \"__main__\":\n",
        "    main()"
      ],
      "metadata": {
        "colab": {
          "base_uri": "https://localhost:8080/"
        },
        "id": "BdxL4lYKyvpI",
        "outputId": "f3f606c7-d124-4a71-cb8c-946b2636c34a"
      },
      "execution_count": null,
      "outputs": [
        {
          "metadata": {
            "tags": null
          },
          "name": "stdout",
          "output_type": "stream",
          "text": [
            "Enter two sets of integers separated by commas:\n"
          ]
        }
      ]
    },
    {
      "cell_type": "markdown",
      "source": [
        "Explanation:\n",
        "\n",
        "The get_set_from_user function prompts the user to enter a set of integers separated by commas, and returns a set of integers.\n",
        "The main function prompts the user to enter two sets of integers, and stores them in set1 and set2.\n",
        "It then calculates the intersection of the two sets using the set intersection operation (&).\n",
        "Finally, it prints the intersection of the two sets.\n",
        "Example usage:"
      ],
      "metadata": {
        "id": "uBF7X5aG0bgI"
      }
    },
    {
      "cell_type": "code",
      "source": [
        "Enter two sets of integers separated by commas:\n",
        "Set 1: 1,2,3,4,5\n",
        "Set 2: 4,5,6,7,8\n",
        "Intersection: {4, 5}"
      ],
      "metadata": {
        "id": "8lKinuJj0Q9m"
      },
      "execution_count": null,
      "outputs": []
    },
    {
      "cell_type": "markdown",
      "source": [
        "## 23- Write a code to concatenate two tuples. The function should take two tuples as input and return a tuple containing  elements from both input tuples.\n",
        "Ans = Here is a Python code that concatenates two tuples:"
      ],
      "metadata": {
        "id": "pWOpuvcs0vMr"
      }
    },
    {
      "cell_type": "code",
      "source": [
        "def concatenate_tuples(tuple1, tuple2):\n",
        "    \"\"\"\n",
        "    This function takes two tuples as input and returns a new tuple containing elements from both input tuples.\n",
        "    \"\"\"\n",
        "    # Use the tuple concatenation operator (+) to concatenate the two tuples\n",
        "    return tuple1 + tuple2\n",
        "\n",
        "# Example usage:\n",
        "tuple1 = (1, 2, 3)\n",
        "tuple2 = (4, 5, 6)\n",
        "print(concatenate_tuples(tuple1, tuple2))  # Output: (1, 2, 3, 4, 5, 6)"
      ],
      "metadata": {
        "id": "VGH7dlHm0jcn"
      },
      "execution_count": null,
      "outputs": []
    },
    {
      "cell_type": "code",
      "source": [
        "tuple1 = (1, 2, 3)\n",
        "tuple2 = (4, 5, 6)\n",
        "print(concatenate_tuples(tuple1, tuple2))"
      ],
      "metadata": {
        "id": "L8piAasE2bFW"
      },
      "execution_count": null,
      "outputs": []
    },
    {
      "cell_type": "markdown",
      "source": [
        "## 24 Develop a code that prompts the user to input two sets of strings . Then , print the elements that are present in first set not in second set.\n",
        "Ans= Here is a Python code that prompts the user to input two sets of strings, and then prints the elements that are present in the first set but not in the second set:"
      ],
      "metadata": {
        "id": "gFkUCTTe7_YI"
      }
    },
    {
      "cell_type": "code",
      "source": [
        "def get_set_from_user(prompt):\n",
        "    \"\"\"\n",
        "    This function prompts the user to enter a set of strings separated by commas, and returns a set of strings.\n",
        "    \"\"\"\n",
        "    user_input = input(prompt)\n",
        "    strings = [x.strip() for x in user_input.split(',')]\n",
        "    return set(strings)\n",
        "\n",
        "def main():\n",
        "    print(\"Enter two sets of strings separated by commas:\")\n",
        "    set1 = get_set_from_user(\"Set 1: \")\n",
        "    set2 = get_set_from_user(\"Set 2: \")\n",
        "\n",
        "    difference = set1 - set2\n",
        "\n",
        "    print(\"Elements in Set 1 but not in Set 2:\", difference)\n",
        "\n",
        "if __name__ == \"__main__\":\n",
        "    main()"
      ],
      "metadata": {
        "id": "LZJ6WE-L7mf4"
      },
      "execution_count": null,
      "outputs": []
    },
    {
      "cell_type": "markdown",
      "source": [
        "Explanation:\n",
        "\n",
        "The get_set_from_user function prompts the user to enter a set of strings separated by commas, and returns a set of strings.\n",
        "The main function prompts the user to enter two sets of strings, and stores them in set1 and set2.\n",
        "It then calculates the difference between the two sets using the set difference operation (-).\n",
        "Finally, it prints the elements that are present in set1 but not in set2.\n",
        "Example usage:"
      ],
      "metadata": {
        "id": "-c7jFYPa9eMa"
      }
    },
    {
      "cell_type": "code",
      "source": [
        "Enter two sets of strings separated by commas:\n",
        "Set 1: apple, banana, orange, grape\n",
        "Set 2: banana, orange, mango, pineapple\n",
        "Elements in Set 1 but not in Set 2: {'apple', 'grape'}"
      ],
      "metadata": {
        "id": "mULIDbkK9J8r"
      },
      "execution_count": null,
      "outputs": []
    },
    {
      "cell_type": "markdown",
      "source": [
        "## 25- Create a code that take a tuple and two integers as input. The function should should return a new a tuple containing elements from the orignal tuple within in the specified range of indices.\n",
        "ans= Here is a Python code that takes a tuple and two integers as input, and returns a new tuple containing elements from the original tuple within the specified range of indices:"
      ],
      "metadata": {
        "id": "sMKdRoaH99J-"
      }
    },
    {
      "cell_type": "code",
      "source": [
        "def slice_tuple(tuple, start, end):\n",
        "    \"\"\"\n",
        "    This function takes a tuple and two integers as input, and returns a new tuple containing elements from the original tuple within the specified range of indices.\n",
        "    \"\"\"\n",
        "    # Use tuple slicing to extract the desired elements\n",
        "    return tuple[start:end]\n",
        "\n",
        "# Example usage:\n",
        "my_tuple = (1, 2, 3, 4, 5, 6, 7, 8, 9)\n",
        "start_index = 2\n",
        "end_index = 6\n",
        "print(slice_tuple(my_tuple, start_index, end_index))  # Output: (3, 4, 5, 6)"
      ],
      "metadata": {
        "id": "1fptUNz_97HC"
      },
      "execution_count": null,
      "outputs": []
    },
    {
      "cell_type": "markdown",
      "source": [
        "Explanation:\n",
        "\n",
        "The function takes a tuple tuple and two integers start and end as input.\n",
        "It uses tuple slicing to extract the elements from the original tuple within the specified range of indices.\n",
        "The resulting tuple contains the elements from the original tuple, starting from the start index (inclusive) and ending at the end index (exclusive).\n",
        "Note that the end index is exclusive, meaning that the element at the end index is not included in the resulting tuple."
      ],
      "metadata": {
        "id": "ADtJnM8nAsVw"
      }
    },
    {
      "cell_type": "markdown",
      "source": [
        "## 26- Write a code that prompts a user to input two sets of characters. Then, print the union of these two sets.\n",
        "ans= Here is a Python code that prompts the user to input two sets of characters, and then prints the union of these two sets:"
      ],
      "metadata": {
        "id": "dfWSEEoHBGvc"
      }
    },
    {
      "cell_type": "code",
      "source": [
        "def get_set_from_user(prompt):\n",
        "    \"\"\"\n",
        "    This function prompts the user to enter a set of characters, and returns a set of characters.\n",
        "    \"\"\"\n",
        "    user_input = input(prompt)\n",
        "    characters = set(user_input)\n",
        "    return characters\n",
        "\n",
        "def main():\n",
        "    print(\"Enter two sets of characters:\")\n",
        "    set1 = get_set_from_user(\"Set 1: \")\n",
        "    set2 = get_set_from_user(\"Set 2: \")\n",
        "\n",
        "    union = set1.union(set2)\n",
        "\n",
        "    print(\"Union of Set 1 and Set 2:\", union)\n",
        "\n",
        "if __name__ == \"__main__\":\n",
        "    main()"
      ],
      "metadata": {
        "id": "AE1rLAOZArIW"
      },
      "execution_count": null,
      "outputs": []
    },
    {
      "cell_type": "markdown",
      "source": [
        "Explanation:\n",
        "\n",
        "The get_set_from_user function prompts the user to enter a set of characters, and returns a set of characters.\n",
        "The main function prompts the user to enter two sets of characters, and stores them in set1 and set2.\n",
        "It then calculates the union of the two sets using the set union operation (union).\n",
        "Finally, it prints the union of set1 and set2.\n",
        "Example usage:"
      ],
      "metadata": {
        "id": "zr7CVM43CT4l"
      }
    },
    {
      "cell_type": "code",
      "source": [
        "Enter two sets of characters:\n",
        "Set 1: abc\n",
        "Set 2: bcd\n",
        "Union of Set 1 and Set 2: {'a', 'b', 'c', 'd'}"
      ],
      "metadata": {
        "id": "zxOFG7tSCNdO"
      },
      "execution_count": null,
      "outputs": []
    },
    {
      "cell_type": "markdown",
      "source": [
        "## 27- Develop a code that takes a tuple of integer as input . The function should return the maximum and minimum values from the tuple using tuple unpacking .\n",
        "Ans= Here is a Python code that takes a tuple of integers as input and returns the maximum and minimum values from the tuple using tuple unpacking:  "
      ],
      "metadata": {
        "id": "9Jh96KXKChNI"
      }
    },
    {
      "cell_type": "code",
      "source": [
        "def find_max_min(tuple):\n",
        "    \"\"\"\n",
        "    This function takes a tuple of integers as input, and returns the maximum and minimum values from the tuple using tuple unpacking.\n",
        "    \"\"\"\n",
        "    # Use the built-in max and min functions to find the maximum and minimum values\n",
        "    max_val, *_, min_val = (x for x in sorted(tuple))\n",
        "\n",
        "    return max_val, min_val\n",
        "\n",
        "# Example usage:\n",
        "my_tuple = (4, 2, 9, 6, 5, 1, 8, 3, 7)\n",
        "max_value, min_value = find_max_min(my_tuple)\n",
        "print(f\"Maximum value: {max_value}, Minimum value: {min_value}\")  # Output: Maximum value: 9, Minimum value: 1"
      ],
      "metadata": {
        "id": "_sWt5KVNCd-d"
      },
      "execution_count": null,
      "outputs": []
    },
    {
      "cell_type": "markdown",
      "source": [
        "Explanation:\n",
        "\n",
        "The function takes a tuple of integers as input.\n",
        "It uses a generator expression to sort the tuple in ascending order.\n",
        "It then uses tuple unpacking to assign the maximum value to max_val and the minimum value to min_val.\n",
        "The *_, syntax is used to ignore the middle elements of the sorted tuple.\n",
        "Finally, it returns the maximum and minimum values as a tuple.\n",
        "Note that this implementation assumes that the input tuple is non-empty. If the input tuple can be empty, additional error handling should be added."
      ],
      "metadata": {
        "id": "xsm6UGh0D4sj"
      }
    },
    {
      "cell_type": "markdown",
      "source": [
        "## 28- Create a code that defines two sets of integer. Then ,print the union of these two sets .\n",
        "Ans= Here is a Python code that defines two sets of integers and prints the union of these two sets:"
      ],
      "metadata": {
        "id": "GHnKyu3ID8QH"
      }
    },
    {
      "cell_type": "code",
      "source": [
        "# Define two sets of integers\n",
        "set1 = {1, 2, 3, 4, 5}\n",
        "set2 = {4, 5, 6, 7, 8}\n",
        "\n",
        "# Calculate the union of the two sets\n",
        "union = set1.union(set2)\n",
        "\n",
        "# Print the union of the two sets\n",
        "print(\"Union of Set 1 and Set 2:\", union)"
      ],
      "metadata": {
        "id": "vv_oSPNfDw9g"
      },
      "execution_count": null,
      "outputs": []
    },
    {
      "cell_type": "markdown",
      "source": [
        "Explanation:\n",
        "\n",
        "We define two sets of integers, set1 and set2, using the set literal syntax {}.\n",
        "We calculate the union of the two sets using the union method, which returns a new set containing all elements from both sets.\n",
        "Finally, we print the union of the two sets using the print function.\n",
        "Example output:"
      ],
      "metadata": {
        "id": "ry9S48m-FJmS"
      }
    },
    {
      "cell_type": "code",
      "source": [
        "Union of Set 1 and Set 2: {1, 2, 3, 4, 5, 6, 7, 8}"
      ],
      "metadata": {
        "id": "b9nbt3kzFHz8"
      },
      "execution_count": null,
      "outputs": []
    },
    {
      "cell_type": "markdown",
      "source": [
        "## 30= Develop a code that prompts the  user to input two sets of strings. Then, print the symmetric difference of these two sets.\n",
        "Ans - Here is a Python code that prompts the user to input two sets of strings and prints the symmetric difference of these two sets:"
      ],
      "metadata": {
        "id": "Hd9Z-ACmFU2m"
      }
    },
    {
      "cell_type": "code",
      "source": [
        "# Prompt the user to input two sets of strings\n",
        "set1 = set(input(\"Enter the first set of strings (separated by commas): \").split(','))\n",
        "set2 = set(input(\"Enter the second set of strings (separated by commas): \").split(','))\n",
        "\n",
        "# Calculate the symmetric difference of the two sets\n",
        "symmetric_diff = set1.symmetric_difference(set2)\n",
        "\n",
        "# Print the symmetric difference of the two sets\n",
        "print(\"Symmetric difference of Set 1 and Set 2:\", symmetric_diff)"
      ],
      "metadata": {
        "id": "PaM8CfdKFSjB"
      },
      "execution_count": null,
      "outputs": []
    },
    {
      "cell_type": "markdown",
      "source": [
        "Explanation:\n",
        "\n",
        "We use the input function to prompt the user to input two sets of strings, separated by commas.\n",
        "We use the split method to split the input strings into individual elements, and then convert them to sets using the set constructor.\n",
        "We calculate the symmetric difference of the two sets using the symmetric_difference method, which returns a new set containing all elements that are in exactly one of the sets.\n",
        "Finally, we print the symmetric difference of the two sets using the print function.\n",
        "Example output:"
      ],
      "metadata": {
        "id": "mAbMzGZEGg6i"
      }
    },
    {
      "cell_type": "code",
      "source": [
        "Enter the first set of strings (separated by commas): apple, banana, orange\n",
        "Enter the second set of strings (separated by commas): orange, grape, kiwi\n",
        "Symmetric difference of Set 1 and Set 2: {'apple', 'banana', 'grape', 'kiwi'}"
      ],
      "metadata": {
        "id": "Rz1ZP6elGbBL"
      },
      "execution_count": null,
      "outputs": []
    },
    {
      "cell_type": "markdown",
      "source": [
        "## 31-- Write a code that takes a list of words as input and returns a dictionary where the keys are unique words and the values are the frequencies of those words in the input list.\n",
        "Ans= Here is a Python code that takes a list of words as input and returns a dictionary where the keys are unique words and the values are the frequencies of those words in the input list:"
      ],
      "metadata": {
        "id": "OHkZ9lxnGpzv"
      }
    },
    {
      "cell_type": "code",
      "source": [
        "def word_frequencies(word_list):\n",
        "    # Create an empty dictionary to store the word frequencies\n",
        "    freq_dict = {}\n",
        "\n",
        "    # Iterate over each word in the input list\n",
        "    for word in word_list:\n",
        "        # If the word is already in the dictionary, increment its frequency\n",
        "        if word in freq_dict:\n",
        "            freq_dict[word] += 1\n",
        "        # If the word is not in the dictionary, add it with a frequency of 1\n",
        "        else:\n",
        "            freq_dict[word] = 1\n",
        "\n",
        "    # Return the dictionary of word frequencies\n",
        "    return freq_dict\n",
        "\n",
        "# Example usage:\n",
        "word_list = input(\"Enter a list of words (separated by commas): \").split(',')\n",
        "word_list = [word.strip() for word in word_list]  # Remove leading/trailing whitespace\n",
        "freq_dict = word_frequencies(word_list)\n",
        "print(\"Word frequencies:\", freq_dict)"
      ],
      "metadata": {
        "id": "lQrh0yzrGlsX"
      },
      "execution_count": null,
      "outputs": []
    },
    {
      "cell_type": "markdown",
      "source": [
        "Explanation:\n",
        "\n",
        "We define a function word_frequencies that takes a list of words as input.\n",
        "We create an empty dictionary freq_dict to store the word frequencies.\n",
        "We iterate over each word in the input list, and for each word:\n",
        "If the word is already in the dictionary, we increment its frequency by 1.\n",
        "If the word is not in the dictionary, we add it with a frequency of 1.\n",
        "Finally, we return the dictionary of word frequencies.\n",
        "In the example usage, we prompt the user to input a list of words, split the input string into individual words, and then call the word_frequencies function to get the dictionary of word frequencies.\n",
        "Example output:"
      ],
      "metadata": {
        "id": "dj7P4RnEII9N"
      }
    },
    {
      "cell_type": "code",
      "source": [
        "Enter a list of words (separated by commas): apple, banana, apple, orange, banana, banana\n",
        "Word frequencies: {'apple': 2, 'banana': 3, 'orange': 1}"
      ],
      "metadata": {
        "id": "8083MQWwIEd1"
      },
      "execution_count": null,
      "outputs": []
    },
    {
      "cell_type": "markdown",
      "source": [
        "## 29= Write a code that takes a tuple and an element as input. The function should return the count of occurrences of the given element in the tuple.\n",
        "Ans = Here is a Python function to count occurrences of an element in a tuple:"
      ],
      "metadata": {
        "id": "94qRCy2aIO2E"
      }
    },
    {
      "cell_type": "code",
      "source": [
        "def count_occurrences(tup, elem):\n",
        "    return tup.count(elem)\n",
        "\n",
        "# Example usage:\n",
        "tup = ('apple', 'banana', 'apple', ' orange', 'banana', 'banana')\n",
        "elem = 'banana'\n",
        "count = count_occurrences(tup, elem)\n",
        "print(f\"The element '{elem}' occurs {count} times in the tuple.\")"
      ],
      "metadata": {
        "id": "QuKhxbwlIMeW"
      },
      "execution_count": null,
      "outputs": []
    },
    {
      "cell_type": "markdown",
      "source": [
        "Explanation:\n",
        "\n",
        "The count_occurrences function takes a tuple tup and an element elem as input.\n",
        "The function uses the built-in count method of tuples, which returns the number of occurrences of the specified element in the tuple.\n",
        "In the example usage, we define a tuple tup and an element elem, and then call the count_occurrences function to get the count of occurrences of elem in tup.\n",
        "Finally, we print the result to the console."
      ],
      "metadata": {
        "id": "WAWkJ1ugKoNb"
      }
    },
    {
      "cell_type": "code",
      "source": [
        "The element 'banana' occurs 3 times in the tuple."
      ],
      "metadata": {
        "id": "ffBuiWXZKlFW"
      },
      "execution_count": null,
      "outputs": []
    },
    {
      "cell_type": "markdown",
      "source": [
        "## 32= Write a code that takes two dictionaries as input and merges them into a single dictionary.If there are common keys , the valus should be added together .\n",
        "Ans= Here is a Python code that takes two dictionaries as input and merges them into a single dictionary, adding the values together for common keys:\n",
        "\n"
      ],
      "metadata": {
        "id": "JlSKhkxQKv9f"
      }
    },
    {
      "cell_type": "code",
      "source": [
        "def merge_dicts(dict1, dict2):\n",
        "    # Create a new dictionary to store the merged result\n",
        "    merged_dict = {}\n",
        "\n",
        "    # Iterate over the keys in both dictionaries\n",
        "    for key in set(list(dict1.keys()) + list(dict2.keys())):\n",
        "        # If the key is present in both dictionaries, add the values together\n",
        "        if key in dict1 and key in dict2:\n",
        "            merged_dict[key] = dict1[key] + dict2[key]\n",
        "        # If the key is only present in one dictionary, use that value\n",
        "        elif key in dict1:\n",
        "            merged_dict[key] = dict1[key]\n",
        "        else:\n",
        "            merged_dict[key] = dict2[key]\n",
        "\n",
        "    # Return the merged dictionary\n",
        "    return merged_dict\n",
        "\n",
        "# Example usage:\n",
        "dict1 = {'a': 1, 'b': 2, 'c': 3}\n",
        "dict2 = {'b': 4, 'c': 5, 'd': 6}\n",
        "merged_dict = merge_dicts(dict1, dict2)\n",
        "print(\"Merged dictionary:\", merged_dict)"
      ],
      "metadata": {
        "id": "ozlWxOWYKsOh"
      },
      "execution_count": null,
      "outputs": []
    },
    {
      "cell_type": "markdown",
      "source": [
        "Explanation:\n",
        "\n",
        "We define a function merge_dicts that takes two dictionaries dict1 and dict2 as input.\n",
        "We create a new dictionary merged_dict to store the merged result.\n",
        "We iterate over the keys in both dictionaries using the set function to get a unique list of keys.\n",
        "For each key, we check if it is present in both dictionaries. If it is, we add the values together. If it is only present in one dictionary, we use that value.\n",
        "Finally, we return the merged dictionary.\n",
        "In the example usage, we define two dictionaries dict1 and dict2, and then call the merge_dicts function to get the merged dictionary.\n",
        "Example output:"
      ],
      "metadata": {
        "id": "hPGYlxxpLszC"
      }
    },
    {
      "cell_type": "code",
      "source": [
        "Merged dictionary: {'a': 1, 'b': 6, 'c': 8, 'd': 6}"
      ],
      "metadata": {
        "id": "nwuCKlNYLn8X"
      },
      "execution_count": null,
      "outputs": []
    },
    {
      "cell_type": "markdown",
      "source": [
        "## 33- Write a code to access a value in a nested dictionary.The function should take the dictionary and a list of keys as input , and return the corressponding value. If any of the keys do not exist in the dictionary, the function should return none .\n",
        "Ans = Here is a Python code that accesses a value in a nested dictionary:"
      ],
      "metadata": {
        "id": "6LEfuPRlLzC_"
      }
    },
    {
      "cell_type": "code",
      "source": [
        "def access_nested_dict(nested_dict, keys):\n",
        "    \"\"\"\n",
        "    Access a value in a nested dictionary.\n",
        "\n",
        "    Args:\n",
        "        nested_dict (dict): The nested dictionary to access.\n",
        "        keys (list): A list of keys to access the value.\n",
        "\n",
        "    Returns:\n",
        "        The corresponding value if all keys exist, otherwise None.\n",
        "    \"\"\"\n",
        "    # Make a copy of the original dictionary to avoid modifying it\n",
        "    current_dict = nested_dict.copy()\n",
        "\n",
        "    # Iterate over the keys\n",
        "    for key in keys:\n",
        "        # If the key does not exist in the current dictionary, return None\n",
        "        if key not in current_dict:\n",
        "            return None\n",
        "        # If the key exists, update the current dictionary\n",
        "        current_dict = current_dict[key]\n",
        "\n",
        "    # If all keys exist, return the corresponding value\n",
        "    return current_dict\n",
        "\n",
        "# Example usage:\n",
        "nested_dict = {\n",
        "    'a': 1,\n",
        "    'b': {\n",
        "        'c': 2,\n",
        "        'd': {\n",
        "            'e': 3\n",
        "        }\n",
        "    }\n",
        "}\n",
        "keys = ['b', 'd', 'e']\n",
        "value = access_nested_dict(nested_dict, keys)\n",
        "print(\"Value:\", value)"
      ],
      "metadata": {
        "id": "NMGdZf8BLv62"
      },
      "execution_count": null,
      "outputs": []
    },
    {
      "cell_type": "markdown",
      "source": [
        "Explanation:\n",
        "\n",
        "We define a function access_nested_dict that takes a nested dictionary nested_dict and a list of keys keys as input.\n",
        "We make a copy of the original dictionary to avoid modifying it.\n",
        "We iterate over the keys. For each key, we check if it exists in the current dictionary. If it does not exist, we return None.\n",
        "If the key exists, we update the current dictionary to be the value associated with that key.\n",
        "If all keys exist, we return the corresponding value.\n",
        "In the example usage, we define a nested dictionary nested_dict and a list of keys keys, and then call the access_nested_dict function to get the corresponding value.\n",
        "Example output:"
      ],
      "metadata": {
        "id": "fj55XON2NM4Q"
      }
    },
    {
      "cell_type": "code",
      "source": [
        "Value: 3"
      ],
      "metadata": {
        "id": "3wuOzPpuNI8C"
      },
      "execution_count": null,
      "outputs": []
    },
    {
      "cell_type": "markdown",
      "source": [
        "Alternatively, you can use the dict.get() method to access nested dictionaries in a more concise way:"
      ],
      "metadata": {
        "id": "WXE0c1x4NUut"
      }
    },
    {
      "cell_type": "code",
      "source": [
        "def access_nested_dict(nested_dict, keys):\n",
        "    current_dict = nested_dict\n",
        "    for key in keys:\n",
        "        current_dict = current_dict.get(key)\n",
        "        if current_dict is None:\n",
        "            return None\n",
        "    return current_dict"
      ],
      "metadata": {
        "id": "pkGnTMEZNVyZ"
      },
      "execution_count": null,
      "outputs": []
    },
    {
      "cell_type": "markdown",
      "source": [
        "This implementation uses the get() method to access the value associated with each key. If the key does not exist, get() returns None, and we return None immediately. If all keys exist, we return the corresponding value."
      ],
      "metadata": {
        "id": "O3BzGNTFNbXN"
      }
    },
    {
      "cell_type": "markdown",
      "source": [
        "## 34= Write a code that takes a dictionary as input and return a sorted version of it based on the values. You can choose wheather to short in ascending or descending order.\n",
        "Ans- Here is a Python code that takes a dictionary as input and returns a sorted version of it based on the values:"
      ],
      "metadata": {
        "id": "0XT81m4CNheA"
      }
    },
    {
      "cell_type": "code",
      "source": [
        "def sort_dict_by_value(input_dict, ascending=True):\n",
        "    \"\"\"\n",
        "    Sort a dictionary by its values.\n",
        "\n",
        "    Args:\n",
        "        input_dict (dict): The input dictionary to sort.\n",
        "        ascending (bool): Whether to sort in ascending (True) or descending (False) order.\n",
        "\n",
        "    Returns:\n",
        "        A new dictionary with the same keys and values, but sorted by the values.\n",
        "    \"\"\"\n",
        "    # Create a list of tuples, where each tuple contains a key-value pair\n",
        "    dict_items = list(input_dict.items())\n",
        "\n",
        "    # Sort the list of tuples based on the values\n",
        "    if ascending:\n",
        "        dict_items.sort(key=lambda x: x[1])\n",
        "    else:\n",
        "        dict_items.sort(key=lambda x: x[1], reverse=True)\n",
        "\n",
        "    # Create a new dictionary from the sorted list of tuples\n",
        "    sorted_dict = dict(dict_items)\n",
        "\n",
        "    return sorted_dict\n",
        "\n",
        "# Example usage:\n",
        "input_dict = {'a': 3, 'b': 1, 'c': 2, 'd': 4}\n",
        "sorted_dict_ascending = sort_dict_by_value(input_dict)\n",
        "print(\"Sorted dictionary (ascending):\", sorted_dict_ascending)\n",
        "\n",
        "sorted_dict_descending = sort_dict_by_value(input_dict, ascending=False)\n",
        "print(\"Sorted dictionary (descending):\", sorted_dict_descending)"
      ],
      "metadata": {
        "id": "aNJiQoC9NYU7"
      },
      "execution_count": null,
      "outputs": []
    },
    {
      "cell_type": "markdown",
      "source": [
        "Explanation:\n",
        "\n",
        "We define a function sort_dict_by_value that takes an input dictionary input_dict and an optional ascending parameter (defaulting to True).\n",
        "We create a list of tuples, where each tuple contains a key-value pair from the input dictionary.\n",
        "We sort the list of tuples based on the values using the sort() method and a lambda function as the key argument. If ascending is True, we sort in ascending order; otherwise, we sort in descending order using the reverse=True argument.\n",
        "We create a new dictionary from the sorted list of tuples using the dict() constructor.\n",
        "In the example usage, we define an input dictionary input_dict and call the sort_dict_by_value function to get the sorted dictionary in both ascending and descending orders.\n",
        "Example output:"
      ],
      "metadata": {
        "id": "NB4KCftNOxtL"
      }
    },
    {
      "cell_type": "code",
      "source": [
        "Sorted dictionary (ascending): {'b': 1, 'c': 2, 'a': 3, 'd': 4}\n",
        "Sorted dictionary (descending): {'d': 4, 'a': 3, 'c': 2, 'b': 1}"
      ],
      "metadata": {
        "id": "EkB4IjKDOtxD"
      },
      "execution_count": null,
      "outputs": []
    },
    {
      "cell_type": "markdown",
      "source": [
        "## 35- Write a code that invert a dictionary , swapping keys and values.Ensure that the inverted dictionary correctly handles cases where multiple keys have same value by storing the keys as a list in the inverted dictionary.\n",
        "Ans = Here is a Python code that inverts a dictionary, swapping keys and values, and handles cases where multiple keys have the same value by storing the keys as a list in the inverted dictionary:"
      ],
      "metadata": {
        "id": "Y-TRsTI9O3sL"
      }
    },
    {
      "cell_type": "code",
      "source": [
        "def invert_dict(input_dict):\n",
        "    \"\"\"\n",
        "    Invert a dictionary, swapping keys and values.\n",
        "\n",
        "    Args:\n",
        "        input_dict (dict): The input dictionary to invert.\n",
        "\n",
        "    Returns:\n",
        "        A new dictionary with the same values as keys, and the original keys as values in a list.\n",
        "    \"\"\"\n",
        "    inverted_dict = {}\n",
        "    for key, value in input_dict.items():\n",
        "        if value not in inverted_dict:\n",
        "            inverted_dict[value] = [key]\n",
        "        else:\n",
        "            inverted_dict[value].append(key)\n",
        "    return inverted_dict\n",
        "\n",
        "# Example usage:\n",
        "input_dict = {'a': 1, 'b': 2, 'c': 1, 'd': 3, 'e': 2}\n",
        "inverted_dict = invert_dict(input_dict)\n",
        "print(\"Inverted dictionary:\", inverted_dict)"
      ],
      "metadata": {
        "id": "xyqu-BcCO1KD"
      },
      "execution_count": null,
      "outputs": []
    },
    {
      "cell_type": "markdown",
      "source": [
        "Explanation:\n",
        "\n",
        "We define a function invert_dict that takes an input dictionary input_dict as input.\n",
        "We create an empty dictionary inverted_dict to store the inverted dictionary.\n",
        "We iterate over the key-value pairs of the input dictionary using the .items() method.\n",
        "For each pair, we check if the value is already a key in the inverted dictionary. If not, we create a new key with a list containing the original key as its value. If the value is already a key, we append the original key to the existing list.\n",
        "Finally, we return the inverted dictionary.\n",
        "Example output:"
      ],
      "metadata": {
        "id": "sV_B-SBAQfe3"
      }
    },
    {
      "cell_type": "code",
      "source": [
        "Inverted dictionary: {1: ['a', 'c'], 2: ['b', 'e'], 3: ['d']}"
      ],
      "metadata": {
        "id": "GJJkF_ngQcBB"
      },
      "execution_count": null,
      "outputs": []
    },
    {
      "cell_type": "markdown",
      "source": [
        "As you can see, the inverted dictionary correctly handles cases where multiple keys have the same value by storing the keys as a list."
      ],
      "metadata": {
        "id": "zknmJkuEQmFT"
      }
    },
    {
      "cell_type": "code",
      "source": [],
      "metadata": {
        "id": "lwTsCU-AQi2a"
      },
      "execution_count": null,
      "outputs": []
    }
  ]
}